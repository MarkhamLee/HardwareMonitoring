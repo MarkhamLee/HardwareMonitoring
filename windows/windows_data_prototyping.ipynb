{
 "cells": [
  {
   "cell_type": "code",
   "execution_count": 1,
   "metadata": {},
   "outputs": [],
   "source": [
    "import psutil\n",
    "from libre_testing import GetWindowsSensorNames\n",
    "from windows_data import WindowsSensors"
   ]
  },
  {
   "cell_type": "code",
   "execution_count": 3,
   "metadata": {},
   "outputs": [],
   "source": [
    "sensor_names = GetWindowsSensorNames()"
   ]
  },
  {
   "cell_type": "code",
   "execution_count": 4,
   "metadata": {},
   "outputs": [
    {
     "name": "stdout",
     "output_type": "stream",
     "text": [
      "2025-05-20 22:45:37,618 - INFO - libre_testing.py - The sensor type is: Load, sensor name is: CPU Core #1 and the returned value is: 87.1\n",
      "2025-05-20 22:45:37,619 - INFO - libre_testing.py - The sensor type is: Load, sensor name is: CPU Core #2 and the returned value is: 4.5\n",
      "2025-05-20 22:45:37,621 - INFO - libre_testing.py - The sensor type is: Load, sensor name is: CPU Core #3 and the returned value is: 4.3\n",
      "2025-05-20 22:45:37,622 - INFO - libre_testing.py - The sensor type is: Load, sensor name is: CPU Core #4 and the returned value is: 4.1\n",
      "2025-05-20 22:45:37,623 - INFO - libre_testing.py - The sensor type is: Load, sensor name is: CPU Core #5 and the returned value is: 7.3\n",
      "2025-05-20 22:45:37,625 - INFO - libre_testing.py - The sensor type is: Load, sensor name is: CPU Core #6 and the returned value is: 4.0\n",
      "2025-05-20 22:45:37,626 - INFO - libre_testing.py - The sensor type is: Load, sensor name is: CPU Core #7 and the returned value is: 4.0\n",
      "2025-05-20 22:45:37,627 - INFO - libre_testing.py - The sensor type is: Load, sensor name is: CPU Core #8 and the returned value is: 4.1\n",
      "2025-05-20 22:45:37,627 - INFO - libre_testing.py - The sensor type is: Load, sensor name is: CPU Core #9 Thread #1 and the returned value is: 4.1\n",
      "2025-05-20 22:45:37,628 - INFO - libre_testing.py - The sensor type is: Load, sensor name is: CPU Core #9 Thread #2 and the returned value is: 32.8\n",
      "2025-05-20 22:45:37,629 - INFO - libre_testing.py - The sensor type is: Load, sensor name is: CPU Core #10 Thread #1 and the returned value is: 22.5\n",
      "2025-05-20 22:45:37,630 - INFO - libre_testing.py - The sensor type is: Load, sensor name is: CPU Core #10 Thread #2 and the returned value is: 4.1\n",
      "2025-05-20 22:45:37,631 - INFO - libre_testing.py - The sensor type is: Load, sensor name is: CPU Core #11 Thread #1 and the returned value is: 5.7\n",
      "2025-05-20 22:45:37,632 - INFO - libre_testing.py - The sensor type is: Load, sensor name is: CPU Core #11 Thread #2 and the returned value is: 15.9\n",
      "2025-05-20 22:45:37,633 - INFO - libre_testing.py - The sensor type is: Load, sensor name is: CPU Core #12 Thread #1 and the returned value is: 12.4\n",
      "2025-05-20 22:45:37,634 - INFO - libre_testing.py - The sensor type is: Load, sensor name is: CPU Core #12 Thread #2 and the returned value is: 4.1\n",
      "2025-05-20 22:45:37,636 - INFO - libre_testing.py - The sensor type is: Load, sensor name is: CPU Core #13 Thread #1 and the returned value is: 7.7\n",
      "2025-05-20 22:45:37,637 - INFO - libre_testing.py - The sensor type is: Load, sensor name is: CPU Core #13 Thread #2 and the returned value is: 4.1\n",
      "2025-05-20 22:45:37,638 - INFO - libre_testing.py - The sensor type is: Load, sensor name is: CPU Core #14 Thread #1 and the returned value is: 5.4\n",
      "2025-05-20 22:45:37,639 - INFO - libre_testing.py - The sensor type is: Load, sensor name is: CPU Core #14 Thread #2 and the returned value is: 4.0\n",
      "2025-05-20 22:45:37,640 - INFO - libre_testing.py - The sensor type is: Load, sensor name is: CPU Core #15 and the returned value is: 4.1\n",
      "2025-05-20 22:45:37,641 - INFO - libre_testing.py - The sensor type is: Load, sensor name is: CPU Core #16 and the returned value is: 13.6\n",
      "2025-05-20 22:45:37,642 - INFO - libre_testing.py - The sensor type is: Load, sensor name is: CPU Total and the returned value is: 11.8\n",
      "2025-05-20 22:45:37,643 - INFO - libre_testing.py - The sensor type is: Load, sensor name is: CPU Core Max and the returned value is: 87.1\n",
      "2025-05-20 22:45:37,644 - INFO - libre_testing.py - The sensor type is: Temperature, sensor name is: Core Max and the returned value is: 62.0\n",
      "2025-05-20 22:45:37,645 - INFO - libre_testing.py - The sensor type is: Temperature, sensor name is: Core Average and the returned value is: 57.9\n",
      "2025-05-20 22:45:37,646 - INFO - libre_testing.py - The sensor type is: Temperature, sensor name is: CPU Core #1 and the returned value is: 57.0\n",
      "2025-05-20 22:45:37,648 - INFO - libre_testing.py - The sensor type is: Temperature, sensor name is: CPU Core #2 and the returned value is: 57.0\n",
      "2025-05-20 22:45:37,649 - INFO - libre_testing.py - The sensor type is: Temperature, sensor name is: CPU Core #3 and the returned value is: 57.0\n",
      "2025-05-20 22:45:37,651 - INFO - libre_testing.py - The sensor type is: Temperature, sensor name is: CPU Core #4 and the returned value is: 57.0\n",
      "2025-05-20 22:45:37,652 - INFO - libre_testing.py - The sensor type is: Temperature, sensor name is: CPU Core #5 and the returned value is: 57.0\n",
      "2025-05-20 22:45:37,653 - INFO - libre_testing.py - The sensor type is: Temperature, sensor name is: CPU Core #6 and the returned value is: 57.0\n",
      "2025-05-20 22:45:37,654 - INFO - libre_testing.py - The sensor type is: Temperature, sensor name is: CPU Core #7 and the returned value is: 57.0\n",
      "2025-05-20 22:45:37,655 - INFO - libre_testing.py - The sensor type is: Temperature, sensor name is: CPU Core #8 and the returned value is: 57.0\n",
      "2025-05-20 22:45:37,657 - INFO - libre_testing.py - The sensor type is: Temperature, sensor name is: CPU Core #9 and the returned value is: 62.0\n",
      "2025-05-20 22:45:37,657 - INFO - libre_testing.py - The sensor type is: Temperature, sensor name is: CPU Core #10 and the returned value is: 58.0\n",
      "2025-05-20 22:45:37,659 - INFO - libre_testing.py - The sensor type is: Temperature, sensor name is: CPU Core #11 and the returned value is: 58.0\n",
      "2025-05-20 22:45:37,661 - INFO - libre_testing.py - The sensor type is: Temperature, sensor name is: CPU Core #12 and the returned value is: 56.0\n",
      "2025-05-20 22:45:37,663 - INFO - libre_testing.py - The sensor type is: Temperature, sensor name is: CPU Core #13 and the returned value is: 56.0\n",
      "2025-05-20 22:45:37,666 - INFO - libre_testing.py - The sensor type is: Temperature, sensor name is: CPU Core #14 and the returned value is: 56.0\n",
      "2025-05-20 22:45:37,668 - INFO - libre_testing.py - The sensor type is: Temperature, sensor name is: CPU Core #15 and the returned value is: 62.0\n",
      "2025-05-20 22:45:37,669 - INFO - libre_testing.py - The sensor type is: Temperature, sensor name is: CPU Core #16 and the returned value is: 62.0\n",
      "2025-05-20 22:45:37,671 - INFO - libre_testing.py - The sensor type is: Temperature, sensor name is: CPU Package and the returned value is: 62.0\n",
      "2025-05-20 22:45:37,672 - INFO - libre_testing.py - The sensor type is: Temperature, sensor name is: CPU Core #1 Distance to TjMax and the returned value is: 53.0\n",
      "2025-05-20 22:45:37,674 - INFO - libre_testing.py - The sensor type is: Temperature, sensor name is: CPU Core #2 Distance to TjMax and the returned value is: 53.0\n",
      "2025-05-20 22:45:37,675 - INFO - libre_testing.py - The sensor type is: Temperature, sensor name is: CPU Core #3 Distance to TjMax and the returned value is: 53.0\n",
      "2025-05-20 22:45:37,676 - INFO - libre_testing.py - The sensor type is: Temperature, sensor name is: CPU Core #4 Distance to TjMax and the returned value is: 53.0\n",
      "2025-05-20 22:45:37,678 - INFO - libre_testing.py - The sensor type is: Temperature, sensor name is: CPU Core #5 Distance to TjMax and the returned value is: 53.0\n",
      "2025-05-20 22:45:37,679 - INFO - libre_testing.py - The sensor type is: Temperature, sensor name is: CPU Core #6 Distance to TjMax and the returned value is: 53.0\n",
      "2025-05-20 22:45:37,681 - INFO - libre_testing.py - The sensor type is: Temperature, sensor name is: CPU Core #7 Distance to TjMax and the returned value is: 53.0\n",
      "2025-05-20 22:45:37,682 - INFO - libre_testing.py - The sensor type is: Temperature, sensor name is: CPU Core #8 Distance to TjMax and the returned value is: 53.0\n",
      "2025-05-20 22:45:37,683 - INFO - libre_testing.py - The sensor type is: Temperature, sensor name is: CPU Core #9 Distance to TjMax and the returned value is: 48.0\n",
      "2025-05-20 22:45:37,685 - INFO - libre_testing.py - The sensor type is: Temperature, sensor name is: CPU Core #10 Distance to TjMax and the returned value is: 52.0\n",
      "2025-05-20 22:45:37,686 - INFO - libre_testing.py - The sensor type is: Temperature, sensor name is: CPU Core #11 Distance to TjMax and the returned value is: 52.0\n",
      "2025-05-20 22:45:37,687 - INFO - libre_testing.py - The sensor type is: Temperature, sensor name is: CPU Core #12 Distance to TjMax and the returned value is: 54.0\n",
      "2025-05-20 22:45:37,689 - INFO - libre_testing.py - The sensor type is: Temperature, sensor name is: CPU Core #13 Distance to TjMax and the returned value is: 54.0\n",
      "2025-05-20 22:45:37,692 - INFO - libre_testing.py - The sensor type is: Temperature, sensor name is: CPU Core #14 Distance to TjMax and the returned value is: 54.0\n",
      "2025-05-20 22:45:37,693 - INFO - libre_testing.py - The sensor type is: Temperature, sensor name is: CPU Core #15 Distance to TjMax and the returned value is: 48.0\n",
      "2025-05-20 22:45:37,695 - INFO - libre_testing.py - The sensor type is: Temperature, sensor name is: CPU Core #16 Distance to TjMax and the returned value is: 48.0\n",
      "2025-05-20 22:45:37,697 - INFO - libre_testing.py - The sensor type is: Clock, sensor name is: CPU Core #1 and the returned value is: 2795.6\n",
      "2025-05-20 22:45:37,699 - INFO - libre_testing.py - The sensor type is: Clock, sensor name is: CPU Core #2 and the returned value is: 2795.6\n",
      "2025-05-20 22:45:37,700 - INFO - libre_testing.py - The sensor type is: Clock, sensor name is: CPU Core #3 and the returned value is: 2795.6\n",
      "2025-05-20 22:45:37,702 - INFO - libre_testing.py - The sensor type is: Clock, sensor name is: CPU Core #4 and the returned value is: 2795.6\n",
      "2025-05-20 22:45:37,704 - INFO - libre_testing.py - The sensor type is: Clock, sensor name is: CPU Core #5 and the returned value is: 2795.6\n",
      "2025-05-20 22:45:37,705 - INFO - libre_testing.py - The sensor type is: Clock, sensor name is: CPU Core #6 and the returned value is: 2795.6\n",
      "2025-05-20 22:45:37,706 - INFO - libre_testing.py - The sensor type is: Clock, sensor name is: CPU Core #7 and the returned value is: 2795.6\n",
      "2025-05-20 22:45:37,708 - INFO - libre_testing.py - The sensor type is: Clock, sensor name is: CPU Core #8 and the returned value is: 2795.6\n",
      "2025-05-20 22:45:37,710 - INFO - libre_testing.py - The sensor type is: Clock, sensor name is: CPU Core #9 and the returned value is: 1996.8\n",
      "2025-05-20 22:45:37,711 - INFO - libre_testing.py - The sensor type is: Clock, sensor name is: CPU Core #10 and the returned value is: 1797.2\n",
      "2025-05-20 22:45:37,712 - INFO - libre_testing.py - The sensor type is: Clock, sensor name is: CPU Core #11 and the returned value is: 3195.0\n",
      "2025-05-20 22:45:37,713 - INFO - libre_testing.py - The sensor type is: Clock, sensor name is: CPU Core #12 and the returned value is: 1996.8\n",
      "2025-05-20 22:45:37,714 - INFO - libre_testing.py - The sensor type is: Clock, sensor name is: CPU Core #13 and the returned value is: 1996.8\n",
      "2025-05-20 22:45:37,715 - INFO - libre_testing.py - The sensor type is: Clock, sensor name is: CPU Core #14 and the returned value is: 1996.8\n",
      "2025-05-20 22:45:37,716 - INFO - libre_testing.py - The sensor type is: Clock, sensor name is: CPU Core #15 and the returned value is: 1797.2\n",
      "2025-05-20 22:45:37,717 - INFO - libre_testing.py - The sensor type is: Clock, sensor name is: CPU Core #16 and the returned value is: 1697.3\n",
      "2025-05-20 22:45:37,717 - INFO - libre_testing.py - The sensor type is: Power, sensor name is: CPU Package and the returned value is: 15.7\n",
      "2025-05-20 22:45:37,718 - INFO - libre_testing.py - The sensor type is: Power, sensor name is: CPU Cores and the returned value is: 10.3\n",
      "2025-05-20 22:45:37,719 - INFO - libre_testing.py - The sensor type is: Power, sensor name is: CPU Memory and the returned value is: 0.0\n",
      "2025-05-20 22:45:37,720 - INFO - libre_testing.py - The sensor type is: Power, sensor name is: CPU Platform and the returned value is: 51.2\n",
      "2025-05-20 22:45:37,721 - INFO - libre_testing.py - The sensor type is: Voltage, sensor name is: CPU Core and the returned value is: 0.0\n",
      "2025-05-20 22:45:37,722 - INFO - libre_testing.py - The sensor type is: Voltage, sensor name is: CPU Core #1 and the returned value is: 0.8\n",
      "2025-05-20 22:45:37,723 - INFO - libre_testing.py - The sensor type is: Voltage, sensor name is: CPU Core #2 and the returned value is: 0.8\n",
      "2025-05-20 22:45:37,723 - INFO - libre_testing.py - The sensor type is: Voltage, sensor name is: CPU Core #3 and the returned value is: 0.8\n",
      "2025-05-20 22:45:37,724 - INFO - libre_testing.py - The sensor type is: Voltage, sensor name is: CPU Core #4 and the returned value is: 0.8\n",
      "2025-05-20 22:45:37,725 - INFO - libre_testing.py - The sensor type is: Voltage, sensor name is: CPU Core #5 and the returned value is: 0.9\n",
      "2025-05-20 22:45:37,726 - INFO - libre_testing.py - The sensor type is: Voltage, sensor name is: CPU Core #6 and the returned value is: 0.9\n",
      "2025-05-20 22:45:37,727 - INFO - libre_testing.py - The sensor type is: Voltage, sensor name is: CPU Core #7 and the returned value is: 0.9\n",
      "2025-05-20 22:45:37,728 - INFO - libre_testing.py - The sensor type is: Voltage, sensor name is: CPU Core #8 and the returned value is: 0.9\n",
      "2025-05-20 22:45:37,728 - INFO - libre_testing.py - The sensor type is: Voltage, sensor name is: CPU Core #9 and the returned value is: 1.0\n",
      "2025-05-20 22:45:37,729 - INFO - libre_testing.py - The sensor type is: Voltage, sensor name is: CPU Core #10 and the returned value is: 1.0\n",
      "2025-05-20 22:45:37,730 - INFO - libre_testing.py - The sensor type is: Voltage, sensor name is: CPU Core #11 and the returned value is: 0.8\n",
      "2025-05-20 22:45:37,731 - INFO - libre_testing.py - The sensor type is: Voltage, sensor name is: CPU Core #12 and the returned value is: 0.9\n",
      "2025-05-20 22:45:37,731 - INFO - libre_testing.py - The sensor type is: Voltage, sensor name is: CPU Core #13 and the returned value is: 0.7\n",
      "2025-05-20 22:45:37,732 - INFO - libre_testing.py - The sensor type is: Voltage, sensor name is: CPU Core #14 and the returned value is: 0.7\n",
      "2025-05-20 22:45:37,733 - INFO - libre_testing.py - The sensor type is: Clock, sensor name is: Bus Speed and the returned value is: 99.8\n"
     ]
    }
   ],
   "source": [
    "sensor_names.get_libre_sensor_labels()"
   ]
  },
  {
   "cell_type": "code",
   "execution_count": null,
   "metadata": {},
   "outputs": [],
   "source": [
    "win_data = WindowsSensors()"
   ]
  },
  {
   "cell_type": "code",
   "execution_count": null,
   "metadata": {},
   "outputs": [],
   "source": [
    "psutil.disk_io_counters(perdisk=True)"
   ]
  },
  {
   "cell_type": "code",
   "execution_count": null,
   "metadata": {},
   "outputs": [],
   "source": [
    "cpu_temp = win_data.get_libre_data()"
   ]
  },
  {
   "cell_type": "code",
   "execution_count": null,
   "metadata": {},
   "outputs": [],
   "source": [
    "# big_freq, little_freq, cpu_temp = win_data.get_libre_data()"
   ]
  },
  {
   "cell_type": "code",
   "execution_count": null,
   "metadata": {},
   "outputs": [],
   "source": []
  },
  {
   "cell_type": "code",
   "execution_count": null,
   "metadata": {},
   "outputs": [],
   "source": [
    "psutil.getloadavg()"
   ]
  },
  {
   "cell_type": "code",
   "execution_count": null,
   "metadata": {},
   "outputs": [],
   "source": [
    "psutil.disk_usage(\"D:\\\\\")"
   ]
  },
  {
   "cell_type": "code",
   "execution_count": null,
   "metadata": {},
   "outputs": [],
   "source": [
    "total_space = (psutil.disk_usage(\"D:\\\\\")[0]) / 1073741824"
   ]
  },
  {
   "cell_type": "code",
   "execution_count": null,
   "metadata": {},
   "outputs": [],
   "source": [
    "int(total_space)"
   ]
  },
  {
   "cell_type": "code",
   "execution_count": null,
   "metadata": {},
   "outputs": [],
   "source": [
    "disk_usage_c = psutil.disk_usage(\"C:\\\\\")[3]"
   ]
  },
  {
   "cell_type": "code",
   "execution_count": null,
   "metadata": {},
   "outputs": [],
   "source": [
    "internet_connection_speed = psutil.net_if_stats()['Ethernet 2'][2]\n",
    "internet_connection_speed\n",
    "                                    "
   ]
  },
  {
   "cell_type": "code",
   "execution_count": null,
   "metadata": {},
   "outputs": [],
   "source": [
    "psutil.net_if_stats()"
   ]
  },
  {
   "cell_type": "code",
   "execution_count": null,
   "metadata": {},
   "outputs": [],
   "source": [
    "internet_connection_status = psutil.net_if_stats()['Ethernet 2'][0]\n",
    "internet_connection_status"
   ]
  },
  {
   "cell_type": "code",
   "execution_count": null,
   "metadata": {},
   "outputs": [],
   "source": [
    "last_15_average = psutil.getloadavg()[2]\n",
    "last_15_average\n"
   ]
  }
 ],
 "metadata": {
  "kernelspec": {
   "display_name": "Python 3",
   "language": "python",
   "name": "python3"
  },
  "language_info": {
   "codemirror_mode": {
    "name": "ipython",
    "version": 3
   },
   "file_extension": ".py",
   "mimetype": "text/x-python",
   "name": "python",
   "nbconvert_exporter": "python",
   "pygments_lexer": "ipython3",
   "version": "3.10.14"
  }
 },
 "nbformat": 4,
 "nbformat_minor": 2
}
