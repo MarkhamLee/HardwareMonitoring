{
 "cells": [
  {
   "cell_type": "code",
   "execution_count": 1,
   "metadata": {},
   "outputs": [],
   "source": [
    "import psutil\n",
    "from libre_testing import GetWindowsSensorNames\n",
    "from windows_data import WindowsSensors"
   ]
  },
  {
   "cell_type": "code",
   "execution_count": 2,
   "metadata": {},
   "outputs": [],
   "source": [
    "sensor_names = GetWindowsSensorNames()"
   ]
  },
  {
   "cell_type": "code",
   "execution_count": 3,
   "metadata": {},
   "outputs": [
    {
     "name": "stdout",
     "output_type": "stream",
     "text": [
      "The sensor type is: Load, sensor name is: CPU Core #1 and the returned value is: 86.5\n",
      "The sensor type is: Load, sensor name is: CPU Core #2 and the returned value is: 30.9\n",
      "The sensor type is: Load, sensor name is: CPU Core #3 and the returned value is: 30.2\n",
      "The sensor type is: Load, sensor name is: CPU Core #4 and the returned value is: 16.4\n",
      "The sensor type is: Load, sensor name is: CPU Core #5 and the returned value is: 73.1\n",
      "The sensor type is: Load, sensor name is: CPU Core #6 and the returned value is: 21.4\n",
      "The sensor type is: Load, sensor name is: CPU Core #7 and the returned value is: 20.5\n",
      "The sensor type is: Load, sensor name is: CPU Core #8 and the returned value is: 22.4\n",
      "The sensor type is: Load, sensor name is: CPU Core #9 Thread #1 and the returned value is: 53.9\n",
      "The sensor type is: Load, sensor name is: CPU Core #9 Thread #2 and the returned value is: 11.2\n",
      "The sensor type is: Load, sensor name is: CPU Core #10 Thread #1 and the returned value is: 63.3\n",
      "The sensor type is: Load, sensor name is: CPU Core #10 Thread #2 and the returned value is: 3.2\n",
      "The sensor type is: Load, sensor name is: CPU Core #11 Thread #1 and the returned value is: 41.0\n",
      "The sensor type is: Load, sensor name is: CPU Core #11 Thread #2 and the returned value is: 4.7\n",
      "The sensor type is: Load, sensor name is: CPU Core #12 Thread #1 and the returned value is: 50.0\n",
      "The sensor type is: Load, sensor name is: CPU Core #12 Thread #2 and the returned value is: 5.3\n",
      "The sensor type is: Load, sensor name is: CPU Core #13 Thread #1 and the returned value is: 62.7\n",
      "The sensor type is: Load, sensor name is: CPU Core #13 Thread #2 and the returned value is: 3.1\n",
      "The sensor type is: Load, sensor name is: CPU Core #14 Thread #1 and the returned value is: 50.9\n",
      "The sensor type is: Load, sensor name is: CPU Core #14 Thread #2 and the returned value is: 3.6\n",
      "The sensor type is: Load, sensor name is: CPU Core #15 and the returned value is: 2.8\n",
      "The sensor type is: Load, sensor name is: CPU Core #16 and the returned value is: 7.4\n",
      "The sensor type is: Load, sensor name is: CPU Total and the returned value is: 30.2\n",
      "The sensor type is: Load, sensor name is: CPU Core Max and the returned value is: 86.5\n",
      "The sensor type is: Temperature, sensor name is: Core Max and the returned value is: 78.0\n",
      "The sensor type is: Temperature, sensor name is: Core Average and the returned value is: 66.1\n",
      "The sensor type is: Temperature, sensor name is: CPU Core #1 and the returned value is: 63.0\n",
      "The sensor type is: Temperature, sensor name is: CPU Core #2 and the returned value is: 64.0\n",
      "The sensor type is: Temperature, sensor name is: CPU Core #3 and the returned value is: 63.0\n",
      "The sensor type is: Temperature, sensor name is: CPU Core #4 and the returned value is: 63.0\n",
      "The sensor type is: Temperature, sensor name is: CPU Core #5 and the returned value is: 66.0\n",
      "The sensor type is: Temperature, sensor name is: CPU Core #6 and the returned value is: 66.0\n",
      "The sensor type is: Temperature, sensor name is: CPU Core #7 and the returned value is: 66.0\n",
      "The sensor type is: Temperature, sensor name is: CPU Core #8 and the returned value is: 66.0\n",
      "The sensor type is: Temperature, sensor name is: CPU Core #9 and the returned value is: 78.0\n",
      "The sensor type is: Temperature, sensor name is: CPU Core #10 and the returned value is: 74.0\n",
      "The sensor type is: Temperature, sensor name is: CPU Core #11 and the returned value is: 68.0\n",
      "The sensor type is: Temperature, sensor name is: CPU Core #12 and the returned value is: 68.0\n",
      "The sensor type is: Temperature, sensor name is: CPU Core #13 and the returned value is: 65.0\n",
      "The sensor type is: Temperature, sensor name is: CPU Core #14 and the returned value is: 68.0\n",
      "The sensor type is: Temperature, sensor name is: CPU Core #15 and the returned value is: 60.0\n",
      "The sensor type is: Temperature, sensor name is: CPU Core #16 and the returned value is: 60.0\n",
      "The sensor type is: Temperature, sensor name is: CPU Package and the returned value is: 73.0\n",
      "The sensor type is: Temperature, sensor name is: CPU Core #1 Distance to TjMax and the returned value is: 47.0\n",
      "The sensor type is: Temperature, sensor name is: CPU Core #2 Distance to TjMax and the returned value is: 46.0\n",
      "The sensor type is: Temperature, sensor name is: CPU Core #3 Distance to TjMax and the returned value is: 47.0\n",
      "The sensor type is: Temperature, sensor name is: CPU Core #4 Distance to TjMax and the returned value is: 47.0\n",
      "The sensor type is: Temperature, sensor name is: CPU Core #5 Distance to TjMax and the returned value is: 44.0\n",
      "The sensor type is: Temperature, sensor name is: CPU Core #6 Distance to TjMax and the returned value is: 44.0\n",
      "The sensor type is: Temperature, sensor name is: CPU Core #7 Distance to TjMax and the returned value is: 44.0\n",
      "The sensor type is: Temperature, sensor name is: CPU Core #8 Distance to TjMax and the returned value is: 44.0\n",
      "The sensor type is: Temperature, sensor name is: CPU Core #9 Distance to TjMax and the returned value is: 32.0\n",
      "The sensor type is: Temperature, sensor name is: CPU Core #10 Distance to TjMax and the returned value is: 36.0\n",
      "The sensor type is: Temperature, sensor name is: CPU Core #11 Distance to TjMax and the returned value is: 42.0\n",
      "The sensor type is: Temperature, sensor name is: CPU Core #12 Distance to TjMax and the returned value is: 42.0\n",
      "The sensor type is: Temperature, sensor name is: CPU Core #13 Distance to TjMax and the returned value is: 45.0\n",
      "The sensor type is: Temperature, sensor name is: CPU Core #14 Distance to TjMax and the returned value is: 42.0\n",
      "The sensor type is: Temperature, sensor name is: CPU Core #15 Distance to TjMax and the returned value is: 50.0\n",
      "The sensor type is: Temperature, sensor name is: CPU Core #16 Distance to TjMax and the returned value is: 50.0\n",
      "The sensor type is: Clock, sensor name is: CPU Core #1 and the returned value is: 2795.9\n",
      "The sensor type is: Clock, sensor name is: CPU Core #2 and the returned value is: 2795.9\n",
      "The sensor type is: Clock, sensor name is: CPU Core #3 and the returned value is: 2795.9\n",
      "The sensor type is: Clock, sensor name is: CPU Core #4 and the returned value is: 2795.9\n",
      "The sensor type is: Clock, sensor name is: CPU Core #5 and the returned value is: 2795.9\n",
      "The sensor type is: Clock, sensor name is: CPU Core #6 and the returned value is: 2795.9\n",
      "The sensor type is: Clock, sensor name is: CPU Core #7 and the returned value is: 2795.9\n",
      "The sensor type is: Clock, sensor name is: CPU Core #8 and the returned value is: 2795.9\n",
      "The sensor type is: Clock, sensor name is: CPU Core #9 and the returned value is: 4593.3\n",
      "The sensor type is: Clock, sensor name is: CPU Core #10 and the returned value is: 4593.3\n",
      "The sensor type is: Clock, sensor name is: CPU Core #11 and the returned value is: 4293.8\n",
      "The sensor type is: Clock, sensor name is: CPU Core #12 and the returned value is: 4293.8\n",
      "The sensor type is: Clock, sensor name is: CPU Core #13 and the returned value is: 4293.8\n",
      "The sensor type is: Clock, sensor name is: CPU Core #14 and the returned value is: 4293.8\n",
      "The sensor type is: Clock, sensor name is: CPU Core #15 and the returned value is: 1797.4\n",
      "The sensor type is: Clock, sensor name is: CPU Core #16 and the returned value is: 1897.2\n",
      "The sensor type is: Power, sensor name is: CPU Package and the returned value is: 43.9\n",
      "The sensor type is: Power, sensor name is: CPU Cores and the returned value is: 37.1\n",
      "The sensor type is: Power, sensor name is: CPU Memory and the returned value is: 0.0\n",
      "The sensor type is: Power, sensor name is: CPU Platform and the returned value is: 88.1\n",
      "The sensor type is: Voltage, sensor name is: CPU Core and the returned value is: 0.0\n",
      "The sensor type is: Voltage, sensor name is: CPU Core #1 and the returned value is: 0.8\n",
      "The sensor type is: Voltage, sensor name is: CPU Core #2 and the returned value is: 0.8\n",
      "The sensor type is: Voltage, sensor name is: CPU Core #3 and the returned value is: 0.8\n",
      "The sensor type is: Voltage, sensor name is: CPU Core #4 and the returned value is: 0.8\n",
      "The sensor type is: Voltage, sensor name is: CPU Core #5 and the returned value is: 0.8\n",
      "The sensor type is: Voltage, sensor name is: CPU Core #6 and the returned value is: 0.8\n",
      "The sensor type is: Voltage, sensor name is: CPU Core #7 and the returned value is: 0.8\n",
      "The sensor type is: Voltage, sensor name is: CPU Core #8 and the returned value is: 0.8\n",
      "The sensor type is: Voltage, sensor name is: CPU Core #9 and the returned value is: 1.0\n",
      "The sensor type is: Voltage, sensor name is: CPU Core #10 and the returned value is: 1.0\n",
      "The sensor type is: Voltage, sensor name is: CPU Core #11 and the returned value is: 1.0\n",
      "The sensor type is: Voltage, sensor name is: CPU Core #12 and the returned value is: 1.0\n",
      "The sensor type is: Voltage, sensor name is: CPU Core #13 and the returned value is: 1.0\n",
      "The sensor type is: Voltage, sensor name is: CPU Core #14 and the returned value is: 1.0\n",
      "The sensor type is: Clock, sensor name is: Bus Speed and the returned value is: 99.9\n"
     ]
    }
   ],
   "source": [
    "sensor_names.get_libre_sensor_labels()"
   ]
  },
  {
   "cell_type": "code",
   "execution_count": null,
   "metadata": {},
   "outputs": [],
   "source": [
    "win_data = WindowsSensors()"
   ]
  },
  {
   "cell_type": "code",
   "execution_count": null,
   "metadata": {},
   "outputs": [],
   "source": [
    "psutil.disk_io_counters(perdisk=True)"
   ]
  },
  {
   "cell_type": "code",
   "execution_count": null,
   "metadata": {},
   "outputs": [],
   "source": [
    "cpu_temp = win_data.get_libre_data()"
   ]
  },
  {
   "cell_type": "code",
   "execution_count": null,
   "metadata": {},
   "outputs": [],
   "source": [
    "# big_freq, little_freq, cpu_temp = win_data.get_libre_data()"
   ]
  },
  {
   "cell_type": "code",
   "execution_count": null,
   "metadata": {},
   "outputs": [],
   "source": []
  },
  {
   "cell_type": "code",
   "execution_count": null,
   "metadata": {},
   "outputs": [],
   "source": [
    "psutil.getloadavg()"
   ]
  },
  {
   "cell_type": "code",
   "execution_count": null,
   "metadata": {},
   "outputs": [],
   "source": [
    "psutil.disk_usage(\"D:\\\\\")"
   ]
  },
  {
   "cell_type": "code",
   "execution_count": null,
   "metadata": {},
   "outputs": [],
   "source": [
    "total_space = (psutil.disk_usage(\"D:\\\\\")[0]) / 1073741824"
   ]
  },
  {
   "cell_type": "code",
   "execution_count": null,
   "metadata": {},
   "outputs": [],
   "source": [
    "int(total_space)"
   ]
  },
  {
   "cell_type": "code",
   "execution_count": null,
   "metadata": {},
   "outputs": [],
   "source": [
    "disk_usage_c = psutil.disk_usage(\"C:\\\\\")[3]"
   ]
  },
  {
   "cell_type": "code",
   "execution_count": null,
   "metadata": {},
   "outputs": [],
   "source": [
    "internet_connection_speed = psutil.net_if_stats()['Ethernet 2'][2]\n",
    "internet_connection_speed\n",
    "                                    "
   ]
  },
  {
   "cell_type": "code",
   "execution_count": null,
   "metadata": {},
   "outputs": [],
   "source": [
    "psutil.net_if_stats()"
   ]
  },
  {
   "cell_type": "code",
   "execution_count": null,
   "metadata": {},
   "outputs": [],
   "source": [
    "internet_connection_status = psutil.net_if_stats()['Ethernet 2'][0]\n",
    "internet_connection_status"
   ]
  },
  {
   "cell_type": "code",
   "execution_count": null,
   "metadata": {},
   "outputs": [],
   "source": [
    "last_15_average = psutil.getloadavg()[2]\n",
    "last_15_average\n"
   ]
  }
 ],
 "metadata": {
  "kernelspec": {
   "display_name": "Python 3",
   "language": "python",
   "name": "python3"
  },
  "language_info": {
   "codemirror_mode": {
    "name": "ipython",
    "version": 3
   },
   "file_extension": ".py",
   "mimetype": "text/x-python",
   "name": "python",
   "nbconvert_exporter": "python",
   "pygments_lexer": "ipython3",
   "version": "3.10.14"
  }
 },
 "nbformat": 4,
 "nbformat_minor": 2
}
